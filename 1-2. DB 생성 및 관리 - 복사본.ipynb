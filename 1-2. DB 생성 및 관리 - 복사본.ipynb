{
 "cells": [
  {
   "cell_type": "markdown",
   "metadata": {
    "id": "cVB9pY-v8uv5"
   },
   "source": [
    "# **DB 생성 및 관리**"
   ]
  },
  {
   "cell_type": "code",
   "execution_count": 1,
   "metadata": {
    "id": "GVvCef6A8uv6"
   },
   "outputs": [],
   "source": [
    "import pandas as pd\n",
    "import sqlite3\n",
    "import os\n",
    "import numpy as np\n",
    "\n",
    "import warnings\n",
    "warnings.filterwarnings(\"ignore\", category=DeprecationWarning)"
   ]
  },
  {
   "cell_type": "code",
   "execution_count": 26,
   "metadata": {
    "id": "Xj5yt-Ufi1jU"
   },
   "outputs": [],
   "source": [
    "path = os.getcwd() + '/testdb.db'\n",
    "conn = sqlite3.connect(path)"
   ]
  },
  {
   "cell_type": "markdown",
   "metadata": {
    "id": "4sW9iMcCWj-y"
   },
   "source": [
    "### (1) DB 생성"
   ]
  },
  {
   "cell_type": "code",
   "execution_count": 31,
   "metadata": {
    "id": "zpuI3doDW3MO"
   },
   "outputs": [],
   "source": [
    "path = os.getcwd() + '/db/em.db'\n",
    "conn = sqlite3.connect(path)"
   ]
  },
  {
   "cell_type": "code",
   "execution_count": 43,
   "metadata": {},
   "outputs": [],
   "source": [
    "conn = sqlite3.connect(path)\n",
    "cursor = conn.cursor()\n",
    "\n",
    "# log 테이블 생성\n",
    "cursor.execute('''\n",
    "CREATE TABLE IF NOT EXISTS log (\n",
    "    datetime TEXT NOT NULL, \n",
    "    input_text TEXT NOT NULL, \n",
    "    input_latitude REAL NOT NULL,\n",
    "    input_longitude REAL NOT NULL,\n",
    "    em_class INTEGER NOT NULL, \n",
    "    hospital1 TEXT,\n",
    "    addr1 TEXT ,\n",
    "    tel1 TEXT , \n",
    "    hospital2 TEXT ,\n",
    "    addr2 TEXT , \n",
    "    tel2 TEXT , \n",
    "    hospital3 TEXT , \n",
    "    addr3 TEXT , \n",
    "    tel3 TEXT,\n",
    "    comment \n",
    ")\n",
    "''')\n",
    "\n",
    "# 변경사항 커밋 (저장)\n",
    "conn.commit()\n",
    "\n",
    "# 연결 종료\n",
    "conn.close()"
   ]
  },
  {
   "cell_type": "code",
   "execution_count": 6,
   "metadata": {},
   "outputs": [
    {
     "data": {
      "text/html": [
       "<div>\n",
       "<style scoped>\n",
       "    .dataframe tbody tr th:only-of-type {\n",
       "        vertical-align: middle;\n",
       "    }\n",
       "\n",
       "    .dataframe tbody tr th {\n",
       "        vertical-align: top;\n",
       "    }\n",
       "\n",
       "    .dataframe thead th {\n",
       "        text-align: right;\n",
       "    }\n",
       "</style>\n",
       "<table border=\"1\" class=\"dataframe\">\n",
       "  <thead>\n",
       "    <tr style=\"text-align: right;\">\n",
       "      <th></th>\n",
       "      <th>datetime</th>\n",
       "      <th>input_text</th>\n",
       "      <th>input_latitude</th>\n",
       "      <th>input_longitude</th>\n",
       "      <th>em_class</th>\n",
       "      <th>hospital1</th>\n",
       "      <th>addr1</th>\n",
       "      <th>tel1</th>\n",
       "      <th>hospital2</th>\n",
       "      <th>addr2</th>\n",
       "      <th>tel2</th>\n",
       "      <th>hospital3</th>\n",
       "      <th>addr3</th>\n",
       "      <th>tel3</th>\n",
       "      <th>comment</th>\n",
       "    </tr>\n",
       "  </thead>\n",
       "  <tbody>\n",
       "    <tr>\n",
       "      <th>0</th>\n",
       "      <td>2024-12-18 14:27:14</td>\n",
       "      <td>{\"summary\": \"낙상 후 머리부상, 피 흘림, 어지러움 증상\", \"부위\": ...</td>\n",
       "      <td>37.358618</td>\n",
       "      <td>127.115036</td>\n",
       "      <td>2</td>\n",
       "      <td>분당서울대학교병원</td>\n",
       "      <td>None</td>\n",
       "      <td>031-787-2114</td>\n",
       "      <td>대진의료재단분당제생병원</td>\n",
       "      <td>None</td>\n",
       "      <td>031-779-0114</td>\n",
       "      <td>국군수도병원</td>\n",
       "      <td>None</td>\n",
       "      <td>031-725-6075</td>\n",
       "      <td>None</td>\n",
       "    </tr>\n",
       "    <tr>\n",
       "      <th>1</th>\n",
       "      <td>2024-12-18 14:27:14</td>\n",
       "      <td>{\"summary\": \"낙상 후 머리부상, 피 흘림, 어지러움 증상\", \"부위\": ...</td>\n",
       "      <td>37.358618</td>\n",
       "      <td>127.115036</td>\n",
       "      <td>2</td>\n",
       "      <td>분당서울대학교병원</td>\n",
       "      <td>경기도 성남시 분당구 구미로173번길 82 (구미동, 분당서울대학교병원)</td>\n",
       "      <td>031-787-2114</td>\n",
       "      <td>대진의료재단분당제생병원</td>\n",
       "      <td>경기도 성남시 분당구 서현로180번길 20 (서현동)</td>\n",
       "      <td>031-779-0114</td>\n",
       "      <td>국군수도병원</td>\n",
       "      <td>경기도 성남시 분당구 새마을로177번길 81 (율동)</td>\n",
       "      <td>031-725-6075</td>\n",
       "      <td>None</td>\n",
       "    </tr>\n",
       "    <tr>\n",
       "      <th>2</th>\n",
       "      <td>2024-12-18 14:27:14</td>\n",
       "      <td>{\"summary\": \"낙상 후 머리부상, 피 흘림, 어지러움 증상\", \"부위\": ...</td>\n",
       "      <td>37.358618</td>\n",
       "      <td>127.115036</td>\n",
       "      <td>2</td>\n",
       "      <td>분당서울대학교병원</td>\n",
       "      <td>경기도 성남시 분당구 구미로173번길 82 (구미동, 분당서울대학교병원)</td>\n",
       "      <td>031-787-2114</td>\n",
       "      <td>대진의료재단분당제생병원</td>\n",
       "      <td>경기도 성남시 분당구 서현로180번길 20 (서현동)</td>\n",
       "      <td>031-779-0114</td>\n",
       "      <td>국군수도병원</td>\n",
       "      <td>경기도 성남시 분당구 새마을로177번길 81 (율동)</td>\n",
       "      <td>031-725-6075</td>\n",
       "      <td>None</td>\n",
       "    </tr>\n",
       "  </tbody>\n",
       "</table>\n",
       "</div>"
      ],
      "text/plain": [
       "              datetime                                         input_text  \\\n",
       "0  2024-12-18 14:27:14  {\"summary\": \"낙상 후 머리부상, 피 흘림, 어지러움 증상\", \"부위\": ...   \n",
       "1  2024-12-18 14:27:14  {\"summary\": \"낙상 후 머리부상, 피 흘림, 어지러움 증상\", \"부위\": ...   \n",
       "2  2024-12-18 14:27:14  {\"summary\": \"낙상 후 머리부상, 피 흘림, 어지러움 증상\", \"부위\": ...   \n",
       "\n",
       "   input_latitude  input_longitude  em_class  hospital1  \\\n",
       "0       37.358618       127.115036         2  분당서울대학교병원   \n",
       "1       37.358618       127.115036         2  분당서울대학교병원   \n",
       "2       37.358618       127.115036         2  분당서울대학교병원   \n",
       "\n",
       "                                      addr1          tel1     hospital2  \\\n",
       "0                                      None  031-787-2114  대진의료재단분당제생병원   \n",
       "1  경기도 성남시 분당구 구미로173번길 82 (구미동, 분당서울대학교병원)  031-787-2114  대진의료재단분당제생병원   \n",
       "2  경기도 성남시 분당구 구미로173번길 82 (구미동, 분당서울대학교병원)  031-787-2114  대진의료재단분당제생병원   \n",
       "\n",
       "                           addr2          tel2 hospital3  \\\n",
       "0                           None  031-779-0114    국군수도병원   \n",
       "1  경기도 성남시 분당구 서현로180번길 20 (서현동)  031-779-0114    국군수도병원   \n",
       "2  경기도 성남시 분당구 서현로180번길 20 (서현동)  031-779-0114    국군수도병원   \n",
       "\n",
       "                           addr3          tel3 comment  \n",
       "0                           None  031-725-6075    None  \n",
       "1  경기도 성남시 분당구 새마을로177번길 81 (율동)  031-725-6075    None  \n",
       "2  경기도 성남시 분당구 새마을로177번길 81 (율동)  031-725-6075    None  "
      ]
     },
     "metadata": {},
     "output_type": "display_data"
    }
   ],
   "source": [
    "# ① 연결\n",
    "db_path = os.getcwd() + '/db/em.db'\n",
    "conn = sqlite3.connect(db_path)\n",
    "\n",
    "# ② 작업 : select\n",
    "df_db = pd.read_sql('SELECT * FROM log', conn)\n",
    "display(df_db)\n",
    "\n",
    "# ③ 연결 종료\n",
    "conn.close()"
   ]
  },
  {
   "cell_type": "code",
   "execution_count": 45,
   "metadata": {},
   "outputs": [],
   "source": [
    "# result = cursor.fetchall()"
   ]
  },
  {
   "cell_type": "markdown",
   "metadata": {
    "id": "3SLXNGgvbFWG"
   },
   "source": [
    "### (3) log 테이블 입력 함수"
   ]
  },
  {
   "cell_type": "markdown",
   "metadata": {
    "id": "T1UJT7xFZXPL"
   },
   "source": [
    "* 현재 일시 저장하기 예제\n",
    " * 현재 연월일 시분초 뽑기\n",
    "- from datetime import datetime\n",
    "- dt = datetime.now()\n",
    "- dt = dt.strftime('%Y-%m-%d %H:%M:%S')"
   ]
  },
  {
   "cell_type": "code",
   "execution_count": 3,
   "metadata": {
    "id": "FtqHrdYTcj33"
   },
   "outputs": [
    {
     "data": {
      "text/plain": [
       "'2024-12-18 14:54:47'"
      ]
     },
     "execution_count": 3,
     "metadata": {},
     "output_type": "execute_result"
    }
   ],
   "source": [
    "from datetime import datetime\n",
    "dt = datetime.now()\n",
    "dt = dt.strftime('%Y-%m-%d %H:%M:%S')\n",
    "dt"
   ]
  },
  {
   "cell_type": "markdown",
   "metadata": {},
   "source": [
    "# 정보 받아오기"
   ]
  },
  {
   "cell_type": "code",
   "execution_count": 4,
   "metadata": {},
   "outputs": [],
   "source": [
    "#필요한 라이브러리 설치 및 불러우기\n",
    "import os\n",
    "import requests\n",
    "import xml.etree.ElementTree as ET\n",
    "import pandas as pd\n",
    "import openai\n",
    "from openai import OpenAI\n",
    "import json\n",
    "import sys\n",
    "import torch\n",
    "from transformers import AutoTokenizer, AutoModelForSequenceClassification\n",
    "# 조에서 생성한 모듈 불러오기 -------------\n",
    "import emergency as em"
   ]
  },
  {
   "cell_type": "markdown",
   "metadata": {},
   "source": [
    "## path 설정"
   ]
  },
  {
   "cell_type": "code",
   "execution_count": 7,
   "metadata": {},
   "outputs": [],
   "source": [
    "path = os.getcwd() + \"/\"\n",
    "sys.path.append(path)\n",
    "audio_path = path + 'audio/'\n",
    "save_directory = path + 'fine_tuned_bert_our/'"
   ]
  },
  {
   "cell_type": "markdown",
   "metadata": {},
   "source": [
    "## 파이프라인 가동"
   ]
  },
  {
   "cell_type": "code",
   "execution_count": 8,
   "metadata": {},
   "outputs": [
    {
     "name": "stdout",
     "output_type": "stream",
     "text": [
      "탐색범위:11.0km * 11.0km\n"
     ]
    },
    {
     "data": {
      "text/plain": [
       "[(2626, '분당서울대학교병원', '031-787-2114', '031-787-3119'),\n",
       " (4707, '대진의료재단분당제생병원', '031-779-0114', '031-779-0119'),\n",
       " (5973, '국군수도병원', '031-725-6075', '031-725-6119')]"
      ]
     },
     "execution_count": 8,
     "metadata": {},
     "output_type": "execute_result"
    }
   ],
   "source": [
    "#현재 존재하는 응급실 정보, 기본 정보 받아오기\n",
    "emergency = pd.read_csv(path + '응급실 정보.csv')\n",
    "\n",
    "#api key 설정\n",
    "openai.api_key = em.load_file(path + '/api_key.txt')\n",
    "os.environ['OPENAI_API_KEY'] = openai.api_key\n",
    "\n",
    "# audio -> text 변환, 예측하기\n",
    "df = em.audio2text(audio_path)\n",
    "df = em.text2summary(df)\n",
    "pred = em.model_prediction(save_directory, df)\n",
    "\n",
    "# 위치정보 받아온거 합치기(df)\n",
    "df_location = pd.read_excel(path + \"audio_location.xlsx\")\n",
    "df_location.rename(columns={'filename': 'Audio'}, inplace=True)\n",
    "df = pd.merge(df, df_location, on='Audio', how='left')\n",
    "\n",
    "#추천 병원 3개\n",
    "em.recom_em(path, df)"
   ]
  },
  {
   "cell_type": "code",
   "execution_count": 9,
   "metadata": {},
   "outputs": [
    {
     "name": "stdout",
     "output_type": "stream",
     "text": [
      "탐색범위:11.0km * 11.0km\n"
     ]
    }
   ],
   "source": [
    "# module recom_em return값 튜플로 받게 수정\n",
    "# 3개의 값 저장\n",
    "result = em.recom_em(path, df)"
   ]
  },
  {
   "cell_type": "code",
   "execution_count": 11,
   "metadata": {},
   "outputs": [
    {
     "data": {
      "text/plain": [
       "['경기도 성남시 분당구 구미로173번길 82 (구미동, 분당서울대학교병원)',\n",
       " '경기도 성남시 분당구 서현로180번길 20 (서현동)',\n",
       " '경기도 성남시 분당구 새마을로177번길 81 (율동)']"
      ]
     },
     "execution_count": 11,
     "metadata": {},
     "output_type": "execute_result"
    }
   ],
   "source": [
    "addr = []\n",
    "for i in range(len(result)):\n",
    "    hospital_name = result[i][1]\n",
    "    addr.append(emergency.loc[emergency['병원이름'] == hospital_name]['주소'].iloc[0])\n",
    "addr"
   ]
  },
  {
   "cell_type": "code",
   "execution_count": 13,
   "metadata": {},
   "outputs": [],
   "source": [
    "# 연결\n",
    "db_path = os.getcwd() + '/db/em.db'\n",
    "conn = sqlite3.connect(db_path)\n",
    "\n",
    "#SQL 쿼리문 작성\n",
    "insert_query = \"\"\"\n",
    "INSERT INTO log(datetime, input_text, input_latitude, input_longitude, em_class,\n",
    "                hospital1, addr1, tel1, \n",
    "                hospital2,addr2, tel2, \n",
    "                hospital3, addr3, tel3) \n",
    "VALUES (?,?,?,?,?,?,?,?,?,?,?,?,?,?)\n",
    "\"\"\"\n",
    "# INSERT INTO log VALUES (?,?,?,?,?,?,?,?,?,?,?,?,?,?,?)로 해도 작동한다. \n",
    "cursor = conn.cursor()\n",
    "\n",
    "# 주소를 제외한 나머지만 넘김\n",
    "cursor.execute(insert_query, \n",
    "               (dt, df['summary'][0], df['위도'][0], df['경도'][0], pred, \n",
    "                result[0][1], addr[0], result[0][2], \n",
    "                result[1][1], addr[1], result[1][2], \n",
    "                result[2][1], addr[2], result[2][2]\n",
    "               )\n",
    "              )\n",
    "\n",
    "conn.commit()\n",
    "# 연결 종료\n",
    "conn.close()"
   ]
  },
  {
   "cell_type": "code",
   "execution_count": 14,
   "metadata": {},
   "outputs": [
    {
     "data": {
      "text/html": [
       "<div>\n",
       "<style scoped>\n",
       "    .dataframe tbody tr th:only-of-type {\n",
       "        vertical-align: middle;\n",
       "    }\n",
       "\n",
       "    .dataframe tbody tr th {\n",
       "        vertical-align: top;\n",
       "    }\n",
       "\n",
       "    .dataframe thead th {\n",
       "        text-align: right;\n",
       "    }\n",
       "</style>\n",
       "<table border=\"1\" class=\"dataframe\">\n",
       "  <thead>\n",
       "    <tr style=\"text-align: right;\">\n",
       "      <th></th>\n",
       "      <th>datetime</th>\n",
       "      <th>input_text</th>\n",
       "      <th>input_latitude</th>\n",
       "      <th>input_longitude</th>\n",
       "      <th>em_class</th>\n",
       "      <th>hospital1</th>\n",
       "      <th>addr1</th>\n",
       "      <th>tel1</th>\n",
       "      <th>hospital2</th>\n",
       "      <th>addr2</th>\n",
       "      <th>tel2</th>\n",
       "      <th>hospital3</th>\n",
       "      <th>addr3</th>\n",
       "      <th>tel3</th>\n",
       "      <th>comment</th>\n",
       "    </tr>\n",
       "  </thead>\n",
       "  <tbody>\n",
       "    <tr>\n",
       "      <th>0</th>\n",
       "      <td>2024-12-18 14:27:14</td>\n",
       "      <td>{\"summary\": \"낙상 후 머리부상, 피 흘림, 어지러움 증상\", \"부위\": ...</td>\n",
       "      <td>37.358618</td>\n",
       "      <td>127.115036</td>\n",
       "      <td>2</td>\n",
       "      <td>분당서울대학교병원</td>\n",
       "      <td>None</td>\n",
       "      <td>031-787-2114</td>\n",
       "      <td>대진의료재단분당제생병원</td>\n",
       "      <td>None</td>\n",
       "      <td>031-779-0114</td>\n",
       "      <td>국군수도병원</td>\n",
       "      <td>None</td>\n",
       "      <td>031-725-6075</td>\n",
       "      <td>None</td>\n",
       "    </tr>\n",
       "    <tr>\n",
       "      <th>1</th>\n",
       "      <td>2024-12-18 14:27:14</td>\n",
       "      <td>{\"summary\": \"낙상 후 머리부상, 피 흘림, 어지러움 증상\", \"부위\": ...</td>\n",
       "      <td>37.358618</td>\n",
       "      <td>127.115036</td>\n",
       "      <td>2</td>\n",
       "      <td>분당서울대학교병원</td>\n",
       "      <td>경기도 성남시 분당구 구미로173번길 82 (구미동, 분당서울대학교병원)</td>\n",
       "      <td>031-787-2114</td>\n",
       "      <td>대진의료재단분당제생병원</td>\n",
       "      <td>경기도 성남시 분당구 서현로180번길 20 (서현동)</td>\n",
       "      <td>031-779-0114</td>\n",
       "      <td>국군수도병원</td>\n",
       "      <td>경기도 성남시 분당구 새마을로177번길 81 (율동)</td>\n",
       "      <td>031-725-6075</td>\n",
       "      <td>None</td>\n",
       "    </tr>\n",
       "    <tr>\n",
       "      <th>2</th>\n",
       "      <td>2024-12-18 14:27:14</td>\n",
       "      <td>{\"summary\": \"낙상 후 머리부상, 피 흘림, 어지러움 증상\", \"부위\": ...</td>\n",
       "      <td>37.358618</td>\n",
       "      <td>127.115036</td>\n",
       "      <td>2</td>\n",
       "      <td>분당서울대학교병원</td>\n",
       "      <td>경기도 성남시 분당구 구미로173번길 82 (구미동, 분당서울대학교병원)</td>\n",
       "      <td>031-787-2114</td>\n",
       "      <td>대진의료재단분당제생병원</td>\n",
       "      <td>경기도 성남시 분당구 서현로180번길 20 (서현동)</td>\n",
       "      <td>031-779-0114</td>\n",
       "      <td>국군수도병원</td>\n",
       "      <td>경기도 성남시 분당구 새마을로177번길 81 (율동)</td>\n",
       "      <td>031-725-6075</td>\n",
       "      <td>None</td>\n",
       "    </tr>\n",
       "    <tr>\n",
       "      <th>3</th>\n",
       "      <td>2024-12-18 14:54:47</td>\n",
       "      <td>{\"summary\": \"노인이 계단에서 쓰러지고 머리에 상처가 있으며 피가 납니다....</td>\n",
       "      <td>37.358618</td>\n",
       "      <td>127.115036</td>\n",
       "      <td>2</td>\n",
       "      <td>분당서울대학교병원</td>\n",
       "      <td>경기도 성남시 분당구 구미로173번길 82 (구미동, 분당서울대학교병원)</td>\n",
       "      <td>031-787-2114</td>\n",
       "      <td>대진의료재단분당제생병원</td>\n",
       "      <td>경기도 성남시 분당구 서현로180번길 20 (서현동)</td>\n",
       "      <td>031-779-0114</td>\n",
       "      <td>국군수도병원</td>\n",
       "      <td>경기도 성남시 분당구 새마을로177번길 81 (율동)</td>\n",
       "      <td>031-725-6075</td>\n",
       "      <td>None</td>\n",
       "    </tr>\n",
       "  </tbody>\n",
       "</table>\n",
       "</div>"
      ],
      "text/plain": [
       "              datetime                                         input_text  \\\n",
       "0  2024-12-18 14:27:14  {\"summary\": \"낙상 후 머리부상, 피 흘림, 어지러움 증상\", \"부위\": ...   \n",
       "1  2024-12-18 14:27:14  {\"summary\": \"낙상 후 머리부상, 피 흘림, 어지러움 증상\", \"부위\": ...   \n",
       "2  2024-12-18 14:27:14  {\"summary\": \"낙상 후 머리부상, 피 흘림, 어지러움 증상\", \"부위\": ...   \n",
       "3  2024-12-18 14:54:47  {\"summary\": \"노인이 계단에서 쓰러지고 머리에 상처가 있으며 피가 납니다....   \n",
       "\n",
       "   input_latitude  input_longitude  em_class  hospital1  \\\n",
       "0       37.358618       127.115036         2  분당서울대학교병원   \n",
       "1       37.358618       127.115036         2  분당서울대학교병원   \n",
       "2       37.358618       127.115036         2  분당서울대학교병원   \n",
       "3       37.358618       127.115036         2  분당서울대학교병원   \n",
       "\n",
       "                                      addr1          tel1     hospital2  \\\n",
       "0                                      None  031-787-2114  대진의료재단분당제생병원   \n",
       "1  경기도 성남시 분당구 구미로173번길 82 (구미동, 분당서울대학교병원)  031-787-2114  대진의료재단분당제생병원   \n",
       "2  경기도 성남시 분당구 구미로173번길 82 (구미동, 분당서울대학교병원)  031-787-2114  대진의료재단분당제생병원   \n",
       "3  경기도 성남시 분당구 구미로173번길 82 (구미동, 분당서울대학교병원)  031-787-2114  대진의료재단분당제생병원   \n",
       "\n",
       "                           addr2          tel2 hospital3  \\\n",
       "0                           None  031-779-0114    국군수도병원   \n",
       "1  경기도 성남시 분당구 서현로180번길 20 (서현동)  031-779-0114    국군수도병원   \n",
       "2  경기도 성남시 분당구 서현로180번길 20 (서현동)  031-779-0114    국군수도병원   \n",
       "3  경기도 성남시 분당구 서현로180번길 20 (서현동)  031-779-0114    국군수도병원   \n",
       "\n",
       "                           addr3          tel3 comment  \n",
       "0                           None  031-725-6075    None  \n",
       "1  경기도 성남시 분당구 새마을로177번길 81 (율동)  031-725-6075    None  \n",
       "2  경기도 성남시 분당구 새마을로177번길 81 (율동)  031-725-6075    None  \n",
       "3  경기도 성남시 분당구 새마을로177번길 81 (율동)  031-725-6075    None  "
      ]
     },
     "metadata": {},
     "output_type": "display_data"
    }
   ],
   "source": [
    "# 연결\n",
    "conn = sqlite3.connect(db_path)\n",
    "\n",
    "# 작업 : select\n",
    "df_db = pd.read_sql('SELECT * FROM log', conn)\n",
    "display(df_db)\n",
    "\n",
    "# 연결 종료\n",
    "conn.close()"
   ]
  },
  {
   "cell_type": "code",
   "execution_count": null,
   "metadata": {},
   "outputs": [],
   "source": [
    "# 위도, 경도를 계속해서 입력해주는 함수\n",
    "if pred < 3 :\n",
    "   df['위도'], df['경도'] = map(float, input().split())\n",
    "   em.recom_em(path, df)\n",
    "else : print(\"집에서 휴식을 취하세요\")"
   ]
  }
 ],
 "metadata": {
  "colab": {
   "provenance": [],
   "toc_visible": true
  },
  "kernelspec": {
   "display_name": "em",
   "language": "python",
   "name": "em"
  },
  "language_info": {
   "codemirror_mode": {
    "name": "ipython",
    "version": 3
   },
   "file_extension": ".py",
   "mimetype": "text/x-python",
   "name": "python",
   "nbconvert_exporter": "python",
   "pygments_lexer": "ipython3",
   "version": "3.12.8"
  }
 },
 "nbformat": 4,
 "nbformat_minor": 4
}
