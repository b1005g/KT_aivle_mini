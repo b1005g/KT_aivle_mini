{
 "cells": [
  {
   "cell_type": "markdown",
   "metadata": {
    "id": "4p06IPOk5xil"
   },
   "source": [
    "# **응급상황 자동 인식 및 응급실 연계 서비스**"
   ]
  },
  {
   "cell_type": "markdown",
   "metadata": {
    "id": "76Pw6f64d5VU"
   },
   "source": [
    "## **1.환경설정**"
   ]
  },
  {
   "cell_type": "markdown",
   "metadata": {
    "id": "xpXTO7gP4vyQ"
   },
   "source": [
    "#### 라이브러리 로딩"
   ]
  },
  {
   "cell_type": "code",
   "execution_count": 21,
   "metadata": {},
   "outputs": [],
   "source": [
    "#!pip install openpyxl"
   ]
  },
  {
   "cell_type": "code",
   "execution_count": 22,
   "metadata": {
    "executionInfo": {
     "elapsed": 40913,
     "status": "ok",
     "timestamp": 1732165189075,
     "user": {
      "displayName": "고봉균",
      "userId": "08645387430511410404"
     },
     "user_tz": -540
    },
    "id": "_bx5a2MBfAt2"
   },
   "outputs": [],
   "source": [
    "#필요한 라이브러리 설치 및 불러우기\n",
    "import os\n",
    "import requests\n",
    "import xml.etree.ElementTree as ET\n",
    "import pandas as pd\n",
    "import openai\n",
    "from openai import OpenAI\n",
    "import json\n",
    "import sys\n",
    "import torch\n",
    "\n",
    "from transformers import AutoTokenizer, AutoModelForSequenceClassification\n",
    "\n",
    "\n",
    "# 조에서 생성한 모듈 불러오기 -------------\n",
    "import emergency as em"
   ]
  },
  {
   "cell_type": "code",
   "execution_count": 23,
   "metadata": {},
   "outputs": [],
   "source": [
    "path = os.getcwd() + \"/\"\n",
    "sys.path.append(path)"
   ]
  },
  {
   "cell_type": "markdown",
   "metadata": {
    "id": "Y2h3kvuJekAJ"
   },
   "source": [
    "### (1) open ai key 등록"
   ]
  },
  {
   "cell_type": "code",
   "execution_count": null,
   "metadata": {
    "executionInfo": {
     "elapsed": 605,
     "status": "ok",
     "timestamp": 1732165189076,
     "user": {
      "displayName": "고봉균",
      "userId": "08645387430511410404"
     },
     "user_tz": -540
    },
    "id": "fCh3jcGOekAK"
   },
   "outputs": [],
   "source": [
    "openai.api_key = em.load_file(path + '/api_key.txt')\n",
    "os.environ['OPENAI_API_KEY'] = openai.api_key\n",
    "print(os.environ['OPENAI_API_KEY'][:30])"
   ]
  },
  {
   "cell_type": "markdown",
   "metadata": {
    "id": "jn3tn-GuK0My"
   },
   "source": [
    "### (2) audio to text"
   ]
  },
  {
   "cell_type": "code",
   "execution_count": 25,
   "metadata": {
    "executionInfo": {
     "elapsed": 352,
     "status": "ok",
     "timestamp": 1732165189076,
     "user": {
      "displayName": "고봉균",
      "userId": "08645387430511410404"
     },
     "user_tz": -540
    },
    "id": "dHd-fY0rj8Ds"
   },
   "outputs": [],
   "source": [
    "audio_path = path + 'audio/'"
   ]
  },
  {
   "cell_type": "code",
   "execution_count": 26,
   "metadata": {
    "colab": {
     "base_uri": "https://localhost:8080/",
     "height": 206
    },
    "executionInfo": {
     "elapsed": 10219,
     "status": "ok",
     "timestamp": 1732165198954,
     "user": {
      "displayName": "고봉균",
      "userId": "08645387430511410404"
     },
     "user_tz": -540
    },
    "id": "hxM4Sj0inBjk",
    "outputId": "873e8c70-b0d1-4b22-853b-cf5407d56385"
   },
   "outputs": [
    {
     "data": {
      "text/html": [
       "<div>\n",
       "<style scoped>\n",
       "    .dataframe tbody tr th:only-of-type {\n",
       "        vertical-align: middle;\n",
       "    }\n",
       "\n",
       "    .dataframe tbody tr th {\n",
       "        vertical-align: top;\n",
       "    }\n",
       "\n",
       "    .dataframe thead th {\n",
       "        text-align: right;\n",
       "    }\n",
       "</style>\n",
       "<table border=\"1\" class=\"dataframe\">\n",
       "  <thead>\n",
       "    <tr style=\"text-align: right;\">\n",
       "      <th></th>\n",
       "      <th>Audio</th>\n",
       "      <th>Transcribed</th>\n",
       "    </tr>\n",
       "  </thead>\n",
       "  <tbody>\n",
       "    <tr>\n",
       "      <th>0</th>\n",
       "      <td>audio1.mp3</td>\n",
       "      <td>지금 아빠가 넘어졌어요. 머리에서 피가 나는데 숨은 쉬고 있어요. 지금 막 일어났어...</td>\n",
       "    </tr>\n",
       "    <tr>\n",
       "      <th>1</th>\n",
       "      <td>audio2.mp3</td>\n",
       "      <td>119죠. 제가 지금 열이 열이 올랐어요. 몇 도냐면은 38도 정도 돼요. 머리가 ...</td>\n",
       "    </tr>\n",
       "    <tr>\n",
       "      <th>2</th>\n",
       "      <td>audio3.mp3</td>\n",
       "      <td>동생이 콩 가지고 놀다가 코에 들어가서 한쪽 코가 막혔어요. 아무리 빼보려 해도 안...</td>\n",
       "    </tr>\n",
       "    <tr>\n",
       "      <th>3</th>\n",
       "      <td>audio4.mp3</td>\n",
       "      <td>아까 가다가 머리를 박았는데, 처음에는 괜찮다가, 지금 3시간 정도 지났는데, 머리...</td>\n",
       "    </tr>\n",
       "    <tr>\n",
       "      <th>4</th>\n",
       "      <td>audio5.mp3</td>\n",
       "      <td>화장실에서 미끄러워서 엉덩방아를 찍었어요. 그러고 꼬리뼈가 계속 아파요. 점점 아픈...</td>\n",
       "    </tr>\n",
       "  </tbody>\n",
       "</table>\n",
       "</div>"
      ],
      "text/plain": [
       "        Audio                                        Transcribed\n",
       "0  audio1.mp3  지금 아빠가 넘어졌어요. 머리에서 피가 나는데 숨은 쉬고 있어요. 지금 막 일어났어...\n",
       "1  audio2.mp3  119죠. 제가 지금 열이 열이 올랐어요. 몇 도냐면은 38도 정도 돼요. 머리가 ...\n",
       "2  audio3.mp3  동생이 콩 가지고 놀다가 코에 들어가서 한쪽 코가 막혔어요. 아무리 빼보려 해도 안...\n",
       "3  audio4.mp3  아까 가다가 머리를 박았는데, 처음에는 괜찮다가, 지금 3시간 정도 지났는데, 머리...\n",
       "4  audio5.mp3  화장실에서 미끄러워서 엉덩방아를 찍었어요. 그러고 꼬리뼈가 계속 아파요. 점점 아픈..."
      ]
     },
     "execution_count": 26,
     "metadata": {},
     "output_type": "execute_result"
    }
   ],
   "source": [
    "from emergency import audio2text\n",
    "df = em.audio2text(audio_path)\n",
    "df"
   ]
  },
  {
   "cell_type": "markdown",
   "metadata": {
    "id": "DnyVoEvqe81v"
   },
   "source": [
    "### (3) text summary"
   ]
  },
  {
   "cell_type": "code",
   "execution_count": 27,
   "metadata": {
    "colab": {
     "base_uri": "https://localhost:8080/",
     "height": 206
    },
    "executionInfo": {
     "elapsed": 16557,
     "status": "ok",
     "timestamp": 1732165215505,
     "user": {
      "displayName": "고봉균",
      "userId": "08645387430511410404"
     },
     "user_tz": -540
    },
    "id": "Cog3Rs2utBwZ",
    "outputId": "0e2b5da7-788a-4c6a-bf3a-fbfa8be2776d"
   },
   "outputs": [
    {
     "data": {
      "text/html": [
       "<div>\n",
       "<style scoped>\n",
       "    .dataframe tbody tr th:only-of-type {\n",
       "        vertical-align: middle;\n",
       "    }\n",
       "\n",
       "    .dataframe tbody tr th {\n",
       "        vertical-align: top;\n",
       "    }\n",
       "\n",
       "    .dataframe thead th {\n",
       "        text-align: right;\n",
       "    }\n",
       "</style>\n",
       "<table border=\"1\" class=\"dataframe\">\n",
       "  <thead>\n",
       "    <tr style=\"text-align: right;\">\n",
       "      <th></th>\n",
       "      <th>Audio</th>\n",
       "      <th>Transcribed</th>\n",
       "      <th>summary</th>\n",
       "    </tr>\n",
       "  </thead>\n",
       "  <tbody>\n",
       "    <tr>\n",
       "      <th>0</th>\n",
       "      <td>audio1.mp3</td>\n",
       "      <td>지금 아빠가 넘어졌어요. 머리에서 피가 나는데 숨은 쉬고 있어요. 지금 막 일어났어...</td>\n",
       "      <td>{\"summary\": \"아빠가 계단에서 넘어져 머리에서 피가 나오고 어지럽다고 합니...</td>\n",
       "    </tr>\n",
       "    <tr>\n",
       "      <th>1</th>\n",
       "      <td>audio2.mp3</td>\n",
       "      <td>119죠. 제가 지금 열이 열이 올랐어요. 몇 도냐면은 38도 정도 돼요. 머리가 ...</td>\n",
       "      <td>{\"summary\": \"열이 올라서 머리가 아프고, 띵해요. 목이 좀 아픈 것 같아...</td>\n",
       "    </tr>\n",
       "    <tr>\n",
       "      <th>2</th>\n",
       "      <td>audio3.mp3</td>\n",
       "      <td>동생이 콩 가지고 놀다가 코에 들어가서 한쪽 코가 막혔어요. 아무리 빼보려 해도 안...</td>\n",
       "      <td>{\"summary\": \"콩이 코에 들어간 응급상황 발생\", \"부위\": \"코\", \"증...</td>\n",
       "    </tr>\n",
       "    <tr>\n",
       "      <th>3</th>\n",
       "      <td>audio4.mp3</td>\n",
       "      <td>아까 가다가 머리를 박았는데, 처음에는 괜찮다가, 지금 3시간 정도 지났는데, 머리...</td>\n",
       "      <td>{\"summary\": \"머리를 박고 3시간 지나서 어지러움과 메스꺼움이 있는 상황\"...</td>\n",
       "    </tr>\n",
       "    <tr>\n",
       "      <th>4</th>\n",
       "      <td>audio5.mp3</td>\n",
       "      <td>화장실에서 미끄러워서 엉덩방아를 찍었어요. 그러고 꼬리뼈가 계속 아파요. 점점 아픈...</td>\n",
       "      <td>{\"summary\": \"미끄러져 엉덩방아를 찍어 꼬리뼈가 지속적으로 아픔\", \"부위...</td>\n",
       "    </tr>\n",
       "  </tbody>\n",
       "</table>\n",
       "</div>"
      ],
      "text/plain": [
       "        Audio                                        Transcribed  \\\n",
       "0  audio1.mp3  지금 아빠가 넘어졌어요. 머리에서 피가 나는데 숨은 쉬고 있어요. 지금 막 일어났어...   \n",
       "1  audio2.mp3  119죠. 제가 지금 열이 열이 올랐어요. 몇 도냐면은 38도 정도 돼요. 머리가 ...   \n",
       "2  audio3.mp3  동생이 콩 가지고 놀다가 코에 들어가서 한쪽 코가 막혔어요. 아무리 빼보려 해도 안...   \n",
       "3  audio4.mp3  아까 가다가 머리를 박았는데, 처음에는 괜찮다가, 지금 3시간 정도 지났는데, 머리...   \n",
       "4  audio5.mp3  화장실에서 미끄러워서 엉덩방아를 찍었어요. 그러고 꼬리뼈가 계속 아파요. 점점 아픈...   \n",
       "\n",
       "                                             summary  \n",
       "0  {\"summary\": \"아빠가 계단에서 넘어져 머리에서 피가 나오고 어지럽다고 합니...  \n",
       "1  {\"summary\": \"열이 올라서 머리가 아프고, 띵해요. 목이 좀 아픈 것 같아...  \n",
       "2  {\"summary\": \"콩이 코에 들어간 응급상황 발생\", \"부위\": \"코\", \"증...  \n",
       "3  {\"summary\": \"머리를 박고 3시간 지나서 어지러움과 메스꺼움이 있는 상황\"...  \n",
       "4  {\"summary\": \"미끄러져 엉덩방아를 찍어 꼬리뼈가 지속적으로 아픔\", \"부위...  "
      ]
     },
     "execution_count": 27,
     "metadata": {},
     "output_type": "execute_result"
    }
   ],
   "source": [
    "df = em.text2summary(df)\n",
    "df"
   ]
  },
  {
   "cell_type": "code",
   "execution_count": 46,
   "metadata": {},
   "outputs": [
    {
     "data": {
      "text/html": [
       "<div>\n",
       "<style scoped>\n",
       "    .dataframe tbody tr th:only-of-type {\n",
       "        vertical-align: middle;\n",
       "    }\n",
       "\n",
       "    .dataframe tbody tr th {\n",
       "        vertical-align: top;\n",
       "    }\n",
       "\n",
       "    .dataframe thead th {\n",
       "        text-align: right;\n",
       "    }\n",
       "</style>\n",
       "<table border=\"1\" class=\"dataframe\">\n",
       "  <thead>\n",
       "    <tr style=\"text-align: right;\">\n",
       "      <th></th>\n",
       "      <th>Audio</th>\n",
       "      <th>위도</th>\n",
       "      <th>경도</th>\n",
       "      <th>Unnamed: 3</th>\n",
       "      <th>Unnamed: 4</th>\n",
       "    </tr>\n",
       "  </thead>\n",
       "  <tbody>\n",
       "    <tr>\n",
       "      <th>0</th>\n",
       "      <td>audio1.mp3</td>\n",
       "      <td>37.358618</td>\n",
       "      <td>127.115036</td>\n",
       "      <td>NaN</td>\n",
       "      <td>NaN</td>\n",
       "    </tr>\n",
       "    <tr>\n",
       "      <th>1</th>\n",
       "      <td>audio2.mp3</td>\n",
       "      <td>36.815571</td>\n",
       "      <td>127.128844</td>\n",
       "      <td>NaN</td>\n",
       "      <td>NaN</td>\n",
       "    </tr>\n",
       "    <tr>\n",
       "      <th>2</th>\n",
       "      <td>audio3.mp3</td>\n",
       "      <td>37.538435</td>\n",
       "      <td>126.989828</td>\n",
       "      <td>NaN</td>\n",
       "      <td>NaN</td>\n",
       "    </tr>\n",
       "    <tr>\n",
       "      <th>3</th>\n",
       "      <td>audio4.mp3</td>\n",
       "      <td>35.185745</td>\n",
       "      <td>129.076541</td>\n",
       "      <td>NaN</td>\n",
       "      <td>NaN</td>\n",
       "    </tr>\n",
       "    <tr>\n",
       "      <th>4</th>\n",
       "      <td>audio5.mp3</td>\n",
       "      <td>36.503544</td>\n",
       "      <td>127.252941</td>\n",
       "      <td>NaN</td>\n",
       "      <td>NaN</td>\n",
       "    </tr>\n",
       "    <tr>\n",
       "      <th>5</th>\n",
       "      <td>NaN</td>\n",
       "      <td>NaN</td>\n",
       "      <td>NaN</td>\n",
       "      <td>NaN</td>\n",
       "      <td>NaN</td>\n",
       "    </tr>\n",
       "    <tr>\n",
       "      <th>6</th>\n",
       "      <td>NaN</td>\n",
       "      <td>NaN</td>\n",
       "      <td>NaN</td>\n",
       "      <td>NaN</td>\n",
       "      <td>NaN</td>\n",
       "    </tr>\n",
       "    <tr>\n",
       "      <th>7</th>\n",
       "      <td>NaN</td>\n",
       "      <td>NaN</td>\n",
       "      <td>NaN</td>\n",
       "      <td>NaN</td>\n",
       "      <td>NaN</td>\n",
       "    </tr>\n",
       "    <tr>\n",
       "      <th>8</th>\n",
       "      <td>NaN</td>\n",
       "      <td>NaN</td>\n",
       "      <td>NaN</td>\n",
       "      <td>NaN</td>\n",
       "      <td></td>\n",
       "    </tr>\n",
       "  </tbody>\n",
       "</table>\n",
       "</div>"
      ],
      "text/plain": [
       "        Audio         위도          경도  Unnamed: 3 Unnamed: 4\n",
       "0  audio1.mp3  37.358618  127.115036         NaN        NaN\n",
       "1  audio2.mp3  36.815571  127.128844         NaN        NaN\n",
       "2  audio3.mp3  37.538435  126.989828         NaN        NaN\n",
       "3  audio4.mp3  35.185745  129.076541         NaN        NaN\n",
       "4  audio5.mp3  36.503544  127.252941         NaN        NaN\n",
       "5         NaN        NaN         NaN         NaN        NaN\n",
       "6         NaN        NaN         NaN         NaN        NaN\n",
       "7         NaN        NaN         NaN         NaN        NaN\n",
       "8         NaN        NaN         NaN         NaN           "
      ]
     },
     "execution_count": 46,
     "metadata": {},
     "output_type": "execute_result"
    }
   ],
   "source": [
    "df_location = pd.read_excel(path + \"audio_location.xlsx\")\n",
    "df_location.rename(columns={'filename': 'Audio'}, inplace=True)\n",
    "df_location"
   ]
  },
  {
   "cell_type": "code",
   "execution_count": 29,
   "metadata": {},
   "outputs": [
    {
     "data": {
      "text/html": [
       "<div>\n",
       "<style scoped>\n",
       "    .dataframe tbody tr th:only-of-type {\n",
       "        vertical-align: middle;\n",
       "    }\n",
       "\n",
       "    .dataframe tbody tr th {\n",
       "        vertical-align: top;\n",
       "    }\n",
       "\n",
       "    .dataframe thead th {\n",
       "        text-align: right;\n",
       "    }\n",
       "</style>\n",
       "<table border=\"1\" class=\"dataframe\">\n",
       "  <thead>\n",
       "    <tr style=\"text-align: right;\">\n",
       "      <th></th>\n",
       "      <th>Audio</th>\n",
       "      <th>Transcribed</th>\n",
       "      <th>summary</th>\n",
       "      <th>위도</th>\n",
       "      <th>경도</th>\n",
       "    </tr>\n",
       "  </thead>\n",
       "  <tbody>\n",
       "    <tr>\n",
       "      <th>0</th>\n",
       "      <td>audio1.mp3</td>\n",
       "      <td>지금 아빠가 넘어졌어요. 머리에서 피가 나는데 숨은 쉬고 있어요. 지금 막 일어났어...</td>\n",
       "      <td>{\"summary\": \"아빠가 계단에서 넘어져 머리에서 피가 나오고 어지럽다고 합니...</td>\n",
       "      <td>37.358618</td>\n",
       "      <td>127.115036</td>\n",
       "    </tr>\n",
       "    <tr>\n",
       "      <th>1</th>\n",
       "      <td>audio2.mp3</td>\n",
       "      <td>119죠. 제가 지금 열이 열이 올랐어요. 몇 도냐면은 38도 정도 돼요. 머리가 ...</td>\n",
       "      <td>{\"summary\": \"열이 올라서 머리가 아프고, 띵해요. 목이 좀 아픈 것 같아...</td>\n",
       "      <td>36.815571</td>\n",
       "      <td>127.128844</td>\n",
       "    </tr>\n",
       "    <tr>\n",
       "      <th>2</th>\n",
       "      <td>audio3.mp3</td>\n",
       "      <td>동생이 콩 가지고 놀다가 코에 들어가서 한쪽 코가 막혔어요. 아무리 빼보려 해도 안...</td>\n",
       "      <td>{\"summary\": \"콩이 코에 들어간 응급상황 발생\", \"부위\": \"코\", \"증...</td>\n",
       "      <td>37.538435</td>\n",
       "      <td>126.989828</td>\n",
       "    </tr>\n",
       "    <tr>\n",
       "      <th>3</th>\n",
       "      <td>audio4.mp3</td>\n",
       "      <td>아까 가다가 머리를 박았는데, 처음에는 괜찮다가, 지금 3시간 정도 지났는데, 머리...</td>\n",
       "      <td>{\"summary\": \"머리를 박고 3시간 지나서 어지러움과 메스꺼움이 있는 상황\"...</td>\n",
       "      <td>35.185745</td>\n",
       "      <td>129.076541</td>\n",
       "    </tr>\n",
       "    <tr>\n",
       "      <th>4</th>\n",
       "      <td>audio5.mp3</td>\n",
       "      <td>화장실에서 미끄러워서 엉덩방아를 찍었어요. 그러고 꼬리뼈가 계속 아파요. 점점 아픈...</td>\n",
       "      <td>{\"summary\": \"미끄러져 엉덩방아를 찍어 꼬리뼈가 지속적으로 아픔\", \"부위...</td>\n",
       "      <td>36.503544</td>\n",
       "      <td>127.252941</td>\n",
       "    </tr>\n",
       "  </tbody>\n",
       "</table>\n",
       "</div>"
      ],
      "text/plain": [
       "        Audio                                        Transcribed  \\\n",
       "0  audio1.mp3  지금 아빠가 넘어졌어요. 머리에서 피가 나는데 숨은 쉬고 있어요. 지금 막 일어났어...   \n",
       "1  audio2.mp3  119죠. 제가 지금 열이 열이 올랐어요. 몇 도냐면은 38도 정도 돼요. 머리가 ...   \n",
       "2  audio3.mp3  동생이 콩 가지고 놀다가 코에 들어가서 한쪽 코가 막혔어요. 아무리 빼보려 해도 안...   \n",
       "3  audio4.mp3  아까 가다가 머리를 박았는데, 처음에는 괜찮다가, 지금 3시간 정도 지났는데, 머리...   \n",
       "4  audio5.mp3  화장실에서 미끄러워서 엉덩방아를 찍었어요. 그러고 꼬리뼈가 계속 아파요. 점점 아픈...   \n",
       "\n",
       "                                             summary         위도          경도  \n",
       "0  {\"summary\": \"아빠가 계단에서 넘어져 머리에서 피가 나오고 어지럽다고 합니...  37.358618  127.115036  \n",
       "1  {\"summary\": \"열이 올라서 머리가 아프고, 띵해요. 목이 좀 아픈 것 같아...  36.815571  127.128844  \n",
       "2  {\"summary\": \"콩이 코에 들어간 응급상황 발생\", \"부위\": \"코\", \"증...  37.538435  126.989828  \n",
       "3  {\"summary\": \"머리를 박고 3시간 지나서 어지러움과 메스꺼움이 있는 상황\"...  35.185745  129.076541  \n",
       "4  {\"summary\": \"미끄러져 엉덩방아를 찍어 꼬리뼈가 지속적으로 아픔\", \"부위...  36.503544  127.252941  "
      ]
     },
     "execution_count": 29,
     "metadata": {},
     "output_type": "execute_result"
    }
   ],
   "source": [
    "df = pd.merge(df, df_location, on='Audio', how='left')\n",
    "df.drop(columns=[\"Unnamed: 3\", \"Unnamed: 4\"], errors=\"ignore\", inplace=True)\n",
    "df"
   ]
  },
  {
   "cell_type": "markdown",
   "metadata": {
    "id": "Q1WvCVInfMQw"
   },
   "source": [
    "### (4) 응급실 등급분류"
   ]
  },
  {
   "cell_type": "code",
   "execution_count": 30,
   "metadata": {},
   "outputs": [],
   "source": [
    "save_directory = path + 'fine_tuned_bert_our/'\n",
    "model = AutoModelForSequenceClassification.from_pretrained(save_directory)\n",
    "tokenizer = AutoTokenizer.from_pretrained(save_directory)"
   ]
  },
  {
   "cell_type": "code",
   "execution_count": 31,
   "metadata": {
    "colab": {
     "base_uri": "https://localhost:8080/",
     "height": 321
    },
    "executionInfo": {
     "elapsed": 2079,
     "status": "error",
     "timestamp": 1732165217580,
     "user": {
      "displayName": "고봉균",
      "userId": "08645387430511410404"
     },
     "user_tz": -540
    },
    "id": "ccahWZlaswFC",
    "outputId": "35e5263e-2ada-4a82-a9ad-e7ecf8fc907f"
   },
   "outputs": [
    {
     "data": {
      "text/plain": [
       "2"
      ]
     },
     "execution_count": 31,
     "metadata": {},
     "output_type": "execute_result"
    }
   ],
   "source": [
    "pred = em.model_prediction(save_directory, df)\n",
    "pred"
   ]
  },
  {
   "cell_type": "markdown",
   "metadata": {
    "id": "lL0Np_CFrA5g"
   },
   "source": [
    "### (5) 응급실추천"
   ]
  },
  {
   "cell_type": "code",
   "execution_count": 32,
   "metadata": {
    "colab": {
     "base_uri": "https://localhost:8080/",
     "height": 423
    },
    "executionInfo": {
     "elapsed": 464,
     "status": "ok",
     "timestamp": 1732166217741,
     "user": {
      "displayName": "고봉균",
      "userId": "08645387430511410404"
     },
     "user_tz": -540
    },
    "id": "o2UEY9Z_tnhn",
    "outputId": "7e19c03f-cafc-48f6-ecb7-02f1bd27c6ba"
   },
   "outputs": [],
   "source": [
    "emergency = pd.read_csv(path + '응급실 정보.csv')\n",
    "map_key = em.load_file(path + 'map_key.txt')\n",
    "map_key = json.loads(map_key)\n",
    "c_id, c_key = map_key['c_id'], map_key['c_key']"
   ]
  },
  {
   "cell_type": "code",
   "execution_count": 33,
   "metadata": {},
   "outputs": [
    {
     "data": {
      "text/html": [
       "<div>\n",
       "<style scoped>\n",
       "    .dataframe tbody tr th:only-of-type {\n",
       "        vertical-align: middle;\n",
       "    }\n",
       "\n",
       "    .dataframe tbody tr th {\n",
       "        vertical-align: top;\n",
       "    }\n",
       "\n",
       "    .dataframe thead th {\n",
       "        text-align: right;\n",
       "    }\n",
       "</style>\n",
       "<table border=\"1\" class=\"dataframe\">\n",
       "  <thead>\n",
       "    <tr style=\"text-align: right;\">\n",
       "      <th></th>\n",
       "      <th>병원이름</th>\n",
       "      <th>주소</th>\n",
       "      <th>응급의료기관 종류</th>\n",
       "      <th>전화번호 1</th>\n",
       "      <th>전화번호 3</th>\n",
       "      <th>위도</th>\n",
       "      <th>경도</th>\n",
       "    </tr>\n",
       "  </thead>\n",
       "  <tbody>\n",
       "    <tr>\n",
       "      <th>0</th>\n",
       "      <td>(의)내경의료재단울산제일병원</td>\n",
       "      <td>울산광역시 남구 남산로354번길 26 (신정동)</td>\n",
       "      <td>응급실운영신고기관</td>\n",
       "      <td>052-220-3300</td>\n",
       "      <td>052-220-3334</td>\n",
       "      <td>35.548238</td>\n",
       "      <td>129.307011</td>\n",
       "    </tr>\n",
       "    <tr>\n",
       "      <th>1</th>\n",
       "      <td>(의)서일의료재단기장병원</td>\n",
       "      <td>부산광역시 기장군 기장읍 대청로72번길 6</td>\n",
       "      <td>지역응급의료기관</td>\n",
       "      <td>051-723-0171</td>\n",
       "      <td>051-723-2119</td>\n",
       "      <td>35.236029</td>\n",
       "      <td>129.216492</td>\n",
       "    </tr>\n",
       "    <tr>\n",
       "      <th>2</th>\n",
       "      <td>(의)성세의료재단 뉴성민병원</td>\n",
       "      <td>인천광역시 서구 칠천왕로33번길 17 (석남동, 신석로 70(석남1동, 성민병원))</td>\n",
       "      <td>지역응급의료기관</td>\n",
       "      <td>032-726-1000</td>\n",
       "      <td>032-726-1190</td>\n",
       "      <td>37.508994</td>\n",
       "      <td>126.669479</td>\n",
       "    </tr>\n",
       "    <tr>\n",
       "      <th>3</th>\n",
       "      <td>(의)영문의료재단다보스병원</td>\n",
       "      <td>경기도 용인시 처인구 백옥대로1082번길 18, 다보스종합병원 (김량장동)</td>\n",
       "      <td>지역응급의료센터</td>\n",
       "      <td>031-8021-2114</td>\n",
       "      <td>031-8021-2130</td>\n",
       "      <td>37.234641</td>\n",
       "      <td>127.210499</td>\n",
       "    </tr>\n",
       "    <tr>\n",
       "      <th>4</th>\n",
       "      <td>(의)효심의료재단용인서울병원</td>\n",
       "      <td>경기도 용인시 처인구 고림로 81 (고림동)</td>\n",
       "      <td>지역응급의료기관</td>\n",
       "      <td>031-337-0114</td>\n",
       "      <td>031-336-0119</td>\n",
       "      <td>37.240316</td>\n",
       "      <td>127.214491</td>\n",
       "    </tr>\n",
       "    <tr>\n",
       "      <th>...</th>\n",
       "      <td>...</td>\n",
       "      <td>...</td>\n",
       "      <td>...</td>\n",
       "      <td>...</td>\n",
       "      <td>...</td>\n",
       "      <td>...</td>\n",
       "      <td>...</td>\n",
       "    </tr>\n",
       "    <tr>\n",
       "      <th>520</th>\n",
       "      <td>효산의료재단안양샘병원</td>\n",
       "      <td>경기도 안양시 만안구 삼덕로 9 (안양동, 안양샘병원)</td>\n",
       "      <td>지역응급의료센터</td>\n",
       "      <td>031-467-9717</td>\n",
       "      <td>031-467-9119</td>\n",
       "      <td>37.393404</td>\n",
       "      <td>126.924477</td>\n",
       "    </tr>\n",
       "    <tr>\n",
       "      <th>521</th>\n",
       "      <td>효산의료재단지샘병원</td>\n",
       "      <td>경기도 군포시 군포로 591 (당동, (G샘병원)군포샘병원)</td>\n",
       "      <td>지역응급의료센터</td>\n",
       "      <td>031-389-3000</td>\n",
       "      <td>031-389-3119</td>\n",
       "      <td>37.358645</td>\n",
       "      <td>126.947360</td>\n",
       "    </tr>\n",
       "    <tr>\n",
       "      <th>522</th>\n",
       "      <td>효성시티병원</td>\n",
       "      <td>부산광역시 해운대구 해운대로 135 (재송동)</td>\n",
       "      <td>응급실운영신고기관</td>\n",
       "      <td>051-709-3000</td>\n",
       "      <td>051-709-3119</td>\n",
       "      <td>35.185413</td>\n",
       "      <td>129.121459</td>\n",
       "    </tr>\n",
       "    <tr>\n",
       "      <th>523</th>\n",
       "      <td>흑룡의원</td>\n",
       "      <td>인천광역시 옹진군 백령면 백령로 831</td>\n",
       "      <td>응급실운영신고기관</td>\n",
       "      <td>032-837-6873</td>\n",
       "      <td>032-837-3153</td>\n",
       "      <td>37.959524</td>\n",
       "      <td>124.665499</td>\n",
       "    </tr>\n",
       "    <tr>\n",
       "      <th>524</th>\n",
       "      <td>희명병원</td>\n",
       "      <td>서울특별시 금천구 시흥대로 244 (시흥동)</td>\n",
       "      <td>지역응급의료기관</td>\n",
       "      <td>02-804-0002</td>\n",
       "      <td>02-809-0122</td>\n",
       "      <td>37.455671</td>\n",
       "      <td>126.900563</td>\n",
       "    </tr>\n",
       "  </tbody>\n",
       "</table>\n",
       "<p>525 rows × 7 columns</p>\n",
       "</div>"
      ],
      "text/plain": [
       "                병원이름                                              주소  \\\n",
       "0    (의)내경의료재단울산제일병원                      울산광역시 남구 남산로354번길 26 (신정동)   \n",
       "1      (의)서일의료재단기장병원                         부산광역시 기장군 기장읍 대청로72번길 6   \n",
       "2    (의)성세의료재단 뉴성민병원  인천광역시 서구 칠천왕로33번길 17 (석남동, 신석로 70(석남1동, 성민병원))   \n",
       "3     (의)영문의료재단다보스병원       경기도 용인시 처인구 백옥대로1082번길 18, 다보스종합병원 (김량장동)   \n",
       "4    (의)효심의료재단용인서울병원                        경기도 용인시 처인구 고림로 81 (고림동)   \n",
       "..               ...                                             ...   \n",
       "520      효산의료재단안양샘병원                  경기도 안양시 만안구 삼덕로 9 (안양동, 안양샘병원)   \n",
       "521       효산의료재단지샘병원               경기도 군포시 군포로 591 (당동, (G샘병원)군포샘병원)   \n",
       "522           효성시티병원                       부산광역시 해운대구 해운대로 135 (재송동)   \n",
       "523             흑룡의원                           인천광역시 옹진군 백령면 백령로 831   \n",
       "524             희명병원                        서울특별시 금천구 시흥대로 244 (시흥동)   \n",
       "\n",
       "     응급의료기관 종류         전화번호 1         전화번호 3         위도          경도  \n",
       "0    응급실운영신고기관   052-220-3300   052-220-3334  35.548238  129.307011  \n",
       "1     지역응급의료기관   051-723-0171   051-723-2119  35.236029  129.216492  \n",
       "2     지역응급의료기관   032-726-1000   032-726-1190  37.508994  126.669479  \n",
       "3     지역응급의료센터  031-8021-2114  031-8021-2130  37.234641  127.210499  \n",
       "4     지역응급의료기관   031-337-0114   031-336-0119  37.240316  127.214491  \n",
       "..         ...            ...            ...        ...         ...  \n",
       "520   지역응급의료센터   031-467-9717   031-467-9119  37.393404  126.924477  \n",
       "521   지역응급의료센터   031-389-3000   031-389-3119  37.358645  126.947360  \n",
       "522  응급실운영신고기관   051-709-3000   051-709-3119  35.185413  129.121459  \n",
       "523  응급실운영신고기관   032-837-6873   032-837-3153  37.959524  124.665499  \n",
       "524   지역응급의료기관    02-804-0002    02-809-0122  37.455671  126.900563  \n",
       "\n",
       "[525 rows x 7 columns]"
      ]
     },
     "execution_count": 33,
     "metadata": {},
     "output_type": "execute_result"
    }
   ],
   "source": [
    "emergency"
   ]
  },
  {
   "cell_type": "code",
   "execution_count": 34,
   "metadata": {},
   "outputs": [
    {
     "name": "stdout",
     "output_type": "stream",
     "text": [
      "탐색범위:11.0km * 11.0km\n",
      "(2626, '분당서울대학교병원', '031-787-2114', '031-787-3119')\n",
      "(4707, '대진의료재단분당제생병원', '031-779-0114', '031-779-0119')\n",
      "(5973, '국군수도병원', '031-725-6075', '031-725-6119')\n"
     ]
    }
   ],
   "source": [
    "em.recom_em(path, df)"
   ]
  },
  {
   "cell_type": "code",
   "execution_count": 39,
   "metadata": {
    "colab": {
     "base_uri": "https://localhost:8080/",
     "height": 391
    },
    "executionInfo": {
     "elapsed": 652,
     "status": "error",
     "timestamp": 1732166629952,
     "user": {
      "displayName": "고봉균",
      "userId": "08645387430511410404"
     },
     "user_tz": -540
    },
    "id": "pb3oRhKDfHpc",
    "outputId": "838fd440-5862-4d77-cdd5-0db846e79242"
   },
   "outputs": [],
   "source": [
    "from concurrent.futures import ThreadPoolExecutor\n",
    "hospital = pd.read_csv(path + '응급실 정보.csv')\n",
    "save_directory = path + \"fine_tuned_bert/\""
   ]
  },
  {
   "cell_type": "code",
   "execution_count": 43,
   "metadata": {
    "id": "tnfS-4gCKPMv"
   },
   "outputs": [
    {
     "name": "stdout",
     "output_type": "stream",
     "text": [
      "탐색범위:11.0km * 11.0km\n",
      "(2626, '분당서울대학교병원', '031-787-2114', '031-787-3119')\n",
      "(4789, '대진의료재단분당제생병원', '031-779-0114', '031-779-0119')\n",
      "(5973, '국군수도병원', '031-725-6075', '031-725-6119')\n"
     ]
    },
    {
     "ename": "KeyboardInterrupt",
     "evalue": "Interrupted by user",
     "output_type": "error",
     "traceback": [
      "\u001b[1;31m---------------------------------------------------------------------------\u001b[0m",
      "\u001b[1;31mKeyboardInterrupt\u001b[0m                         Traceback (most recent call last)",
      "Cell \u001b[1;32mIn[43], line 11\u001b[0m\n\u001b[0;32m      9\u001b[0m em\u001b[38;5;241m.\u001b[39mrecom_em(path, df)\n\u001b[0;32m     10\u001b[0m \u001b[38;5;28;01mif\u001b[39;00m pred \u001b[38;5;241m<\u001b[39m \u001b[38;5;241m3\u001b[39m :\n\u001b[1;32m---> 11\u001b[0m    df[\u001b[38;5;124m'\u001b[39m\u001b[38;5;124m위도\u001b[39m\u001b[38;5;124m'\u001b[39m], df[\u001b[38;5;124m'\u001b[39m\u001b[38;5;124m경도\u001b[39m\u001b[38;5;124m'\u001b[39m] \u001b[38;5;241m=\u001b[39m \u001b[38;5;28mmap\u001b[39m(\u001b[38;5;28mfloat\u001b[39m, \u001b[38;5;28minput\u001b[39m()\u001b[38;5;241m.\u001b[39msplit())\n\u001b[0;32m     12\u001b[0m    em\u001b[38;5;241m.\u001b[39mrecom_em(path, df)\n\u001b[0;32m     13\u001b[0m \u001b[38;5;28;01melse\u001b[39;00m : \u001b[38;5;28mprint\u001b[39m(\u001b[38;5;124m\"\u001b[39m\u001b[38;5;124m집에서 휴식을 취하세요\u001b[39m\u001b[38;5;124m\"\u001b[39m)\n",
      "File \u001b[1;32m~\\anaconda3\\envs\\em\\Lib\\site-packages\\ipykernel\\kernelbase.py:1282\u001b[0m, in \u001b[0;36mKernel.raw_input\u001b[1;34m(self, prompt)\u001b[0m\n\u001b[0;32m   1280\u001b[0m     msg \u001b[38;5;241m=\u001b[39m \u001b[38;5;124m\"\u001b[39m\u001b[38;5;124mraw_input was called, but this frontend does not support input requests.\u001b[39m\u001b[38;5;124m\"\u001b[39m\n\u001b[0;32m   1281\u001b[0m     \u001b[38;5;28;01mraise\u001b[39;00m StdinNotImplementedError(msg)\n\u001b[1;32m-> 1282\u001b[0m \u001b[38;5;28;01mreturn\u001b[39;00m \u001b[38;5;28mself\u001b[39m\u001b[38;5;241m.\u001b[39m_input_request(\n\u001b[0;32m   1283\u001b[0m     \u001b[38;5;28mstr\u001b[39m(prompt),\n\u001b[0;32m   1284\u001b[0m     \u001b[38;5;28mself\u001b[39m\u001b[38;5;241m.\u001b[39m_parent_ident[\u001b[38;5;124m\"\u001b[39m\u001b[38;5;124mshell\u001b[39m\u001b[38;5;124m\"\u001b[39m],\n\u001b[0;32m   1285\u001b[0m     \u001b[38;5;28mself\u001b[39m\u001b[38;5;241m.\u001b[39mget_parent(\u001b[38;5;124m\"\u001b[39m\u001b[38;5;124mshell\u001b[39m\u001b[38;5;124m\"\u001b[39m),\n\u001b[0;32m   1286\u001b[0m     password\u001b[38;5;241m=\u001b[39m\u001b[38;5;28;01mFalse\u001b[39;00m,\n\u001b[0;32m   1287\u001b[0m )\n",
      "File \u001b[1;32m~\\anaconda3\\envs\\em\\Lib\\site-packages\\ipykernel\\kernelbase.py:1325\u001b[0m, in \u001b[0;36mKernel._input_request\u001b[1;34m(self, prompt, ident, parent, password)\u001b[0m\n\u001b[0;32m   1322\u001b[0m \u001b[38;5;28;01mexcept\u001b[39;00m \u001b[38;5;167;01mKeyboardInterrupt\u001b[39;00m:\n\u001b[0;32m   1323\u001b[0m     \u001b[38;5;66;03m# re-raise KeyboardInterrupt, to truncate traceback\u001b[39;00m\n\u001b[0;32m   1324\u001b[0m     msg \u001b[38;5;241m=\u001b[39m \u001b[38;5;124m\"\u001b[39m\u001b[38;5;124mInterrupted by user\u001b[39m\u001b[38;5;124m\"\u001b[39m\n\u001b[1;32m-> 1325\u001b[0m     \u001b[38;5;28;01mraise\u001b[39;00m \u001b[38;5;167;01mKeyboardInterrupt\u001b[39;00m(msg) \u001b[38;5;28;01mfrom\u001b[39;00m \u001b[38;5;28;01mNone\u001b[39;00m\n\u001b[0;32m   1326\u001b[0m \u001b[38;5;28;01mexcept\u001b[39;00m \u001b[38;5;167;01mException\u001b[39;00m:\n\u001b[0;32m   1327\u001b[0m     \u001b[38;5;28mself\u001b[39m\u001b[38;5;241m.\u001b[39mlog\u001b[38;5;241m.\u001b[39mwarning(\u001b[38;5;124m\"\u001b[39m\u001b[38;5;124mInvalid Message:\u001b[39m\u001b[38;5;124m\"\u001b[39m, exc_info\u001b[38;5;241m=\u001b[39m\u001b[38;5;28;01mTrue\u001b[39;00m)\n",
      "\u001b[1;31mKeyboardInterrupt\u001b[0m: Interrupted by user"
     ]
    }
   ],
   "source": [
    "openai.api_key = em.load_file(path + '/api_key.txt')\n",
    "os.environ['OPENAI_API_KEY'] = openai.api_key\n",
    "df = em.audio2text(audio_path)\n",
    "df = em.text2summary(df)\n",
    "pred = em.model_prediction(save_directory, df)\n",
    "df_location = pd.read_excel(path + \"audio_location.xlsx\")\n",
    "df_location.rename(columns={'filename': 'Audio'}, inplace=True)\n",
    "df = pd.merge(df, df_location, on='Audio', how='left')\n",
    "em.recom_em(path, df)\n",
    "if pred < 3 :\n",
    "   df['위도'], df['경도'] = map(float, input().split())\n",
    "   em.recom_em(path, df)\n",
    "else : print(\"집에서 휴식을 취하세요\")"
   ]
  },
  {
   "cell_type": "code",
   "execution_count": null,
   "metadata": {},
   "outputs": [],
   "source": []
  }
 ],
 "metadata": {
  "colab": {
   "provenance": []
  },
  "kernelspec": {
   "display_name": "em",
   "language": "python",
   "name": "em"
  },
  "language_info": {
   "codemirror_mode": {
    "name": "ipython",
    "version": 3
   },
   "file_extension": ".py",
   "mimetype": "text/x-python",
   "name": "python",
   "nbconvert_exporter": "python",
   "pygments_lexer": "ipython3",
   "version": "3.12.8"
  }
 },
 "nbformat": 4,
 "nbformat_minor": 4
}
